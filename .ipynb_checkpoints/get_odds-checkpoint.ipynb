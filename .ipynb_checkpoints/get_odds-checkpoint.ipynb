{
 "cells": [
  {
   "cell_type": "code",
   "execution_count": 2,
   "id": "f1a3db63",
   "metadata": {},
   "outputs": [],
   "source": [
    "from bs4 import BeautifulSoup\n",
    "import requests as rq"
   ]
  },
  {
   "cell_type": "code",
   "execution_count": 5,
   "id": "61b09987",
   "metadata": {},
   "outputs": [],
   "source": [
    "to_scrape = rq.get(\"https://www.nba.com/stats/players/traditional?LastNGames=10\")\n",
    "soup = BeautifulSoup(to_scrape.text, \"html.parser\")"
   ]
  },
  {
   "cell_type": "code",
   "execution_count": 7,
   "id": "6d28da5a",
   "metadata": {},
   "outputs": [
    {
     "data": {
      "text/plain": [
       "<a class=\"Anchor_anchor__cSc3P NavLogo_nl__b4Mct\" data-content=\"home\" data-has-children=\"true\" data-has-more=\"false\" data-id=\"nba:navigation:home:logo\" data-is-external=\"false\" data-large-icon=\"false\" data-track=\"click\" data-type=\"logo\" href=\"/\" title=\"NBA Logo Homepage Button\"><img alt=\"NBA Logo\" src=\"https://cdn.nba.com/logos/leagues/logo-nba.svg\" title=\"NBA Logo\"/><span class=\"sr-only\">NBA</span></a>"
      ]
     },
     "execution_count": 7,
     "metadata": {},
     "output_type": "execute_result"
    }
   ],
   "source": [
    "soup.a"
   ]
  },
  {
   "cell_type": "code",
   "execution_count": null,
   "id": "305189c1",
   "metadata": {},
   "outputs": [],
   "source": []
  }
 ],
 "metadata": {
  "kernelspec": {
   "display_name": "Python 3 (ipykernel)",
   "language": "python",
   "name": "python3"
  },
  "language_info": {
   "codemirror_mode": {
    "name": "ipython",
    "version": 3
   },
   "file_extension": ".py",
   "mimetype": "text/x-python",
   "name": "python",
   "nbconvert_exporter": "python",
   "pygments_lexer": "ipython3",
   "version": "3.11.5"
  }
 },
 "nbformat": 4,
 "nbformat_minor": 5
}
