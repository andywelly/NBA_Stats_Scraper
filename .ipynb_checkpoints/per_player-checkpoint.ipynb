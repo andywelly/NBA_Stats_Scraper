{
 "cells": [
  {
   "cell_type": "code",
   "execution_count": 2,
   "id": "7b882a39",
   "metadata": {},
   "outputs": [],
   "source": [
    "from bs4 import BeautifulSoup\n",
    "import requests"
   ]
  },
  {
   "cell_type": "code",
   "execution_count": 5,
   "id": "a5f6999a",
   "metadata": {},
   "outputs": [],
   "source": [
    "url = 'https://www.basketball-reference.com/players/d/doncilu01.html'\n",
    "\n",
    "page = requests.get(url)\n",
    "\n",
    "soup = BeautifulSoup(page.text, 'html')"
   ]
  },
  {
   "cell_type": "code",
   "execution_count": 13,
   "id": "8758c626",
   "metadata": {},
   "outputs": [
    {
     "name": "stdout",
     "output_type": "stream",
     "text": [
      "<tr><th class=\"left\" data-stat=\"date\" scope=\"row\"><a href=\"/boxscores/202403030DAL.html\" onclick=\"sr_record_analytics_event('Last x Games', 'Date', '2024-03-03')\">2024-03-03</a></th><td class=\"left\" data-stat=\"team_name_abbr\"><a href=\"/teams/DAL/2024.html\" onclick=\"sr_record_analytics_event('Last x Games' ,'Tm', 'DAL')\">DAL</a></td><td class=\"center iz\" data-stat=\"game_location\"></td><td class=\"left\" data-stat=\"opp_name_abbr\"><a href=\"/teams/PHI/2024.html\" onclick=\"sr_record_analytics_event('Last x Games', 'Opp', 'PHI')\">PHI</a></td><td class=\"center\" data-stat=\"game_result\">L 116-120</td><td class=\"right\" data-stat=\"is_starter\">*</td><td class=\"right\" data-stat=\"mp\">40</td><td class=\"right\" data-stat=\"fg\">14</td><td class=\"right\" data-stat=\"fga\">27</td><td class=\"right\" data-stat=\"fg_pct\">.519</td><td class=\"right\" data-stat=\"fg3\">4</td><td class=\"right\" data-stat=\"fg3a\">10</td><td class=\"right\" data-stat=\"fg3_pct\">.400</td><td class=\"right\" data-stat=\"ft\">6</td><td class=\"right\" data-stat=\"fta\">6</td><td class=\"right\" data-stat=\"ft_pct\">1.000</td><td class=\"right\" data-stat=\"orb\">2</td><td class=\"right\" data-stat=\"drb\">9</td><td class=\"right\" data-stat=\"trb\">11</td><td class=\"right\" data-stat=\"ast\">10</td><td class=\"right\" data-stat=\"stl\">1</td><td class=\"right iz\" data-stat=\"blk\">0</td><td class=\"right\" data-stat=\"tov\">7</td><td class=\"right\" data-stat=\"pf\">2</td><td class=\"right\" data-stat=\"pts\">38</td><td class=\"right\" data-stat=\"game_score\">29.0</td><td class=\"right\" data-stat=\"plus_minus\">9</td></tr>\n",
      "\n",
      "\n",
      "\n",
      "<tr><th class=\"left\" data-stat=\"date\" scope=\"row\"><a href=\"/boxscores/202403010BOS.html\" onclick=\"sr_record_analytics_event('Last x Games', 'Date', '2024-03-01')\">2024-03-01</a></th><td class=\"left\" data-stat=\"team_name_abbr\"><a href=\"/teams/DAL/2024.html\" onclick=\"sr_record_analytics_event('Last x Games' ,'Tm', 'DAL')\">DAL</a></td><td class=\"center\" data-stat=\"game_location\">@</td><td class=\"left\" data-stat=\"opp_name_abbr\"><a href=\"/teams/BOS/2024.html\" onclick=\"sr_record_analytics_event('Last x Games', 'Opp', 'BOS')\">BOS</a></td><td class=\"center\" data-stat=\"game_result\">L 110-138</td><td class=\"right\" data-stat=\"is_starter\">*</td><td class=\"right\" data-stat=\"mp\">37</td><td class=\"right\" data-stat=\"fg\">14</td><td class=\"right\" data-stat=\"fga\">25</td><td class=\"right\" data-stat=\"fg_pct\">.560</td><td class=\"right\" data-stat=\"fg3\">3</td><td class=\"right\" data-stat=\"fg3a\">9</td><td class=\"right\" data-stat=\"fg3_pct\">.333</td><td class=\"right\" data-stat=\"ft\">6</td><td class=\"right\" data-stat=\"fta\">8</td><td class=\"right\" data-stat=\"ft_pct\">.750</td><td class=\"right\" data-stat=\"orb\">3</td><td class=\"right\" data-stat=\"drb\">9</td><td class=\"right\" data-stat=\"trb\">12</td><td class=\"right\" data-stat=\"ast\">11</td><td class=\"right iz\" data-stat=\"stl\">0</td><td class=\"right iz\" data-stat=\"blk\">0</td><td class=\"right\" data-stat=\"tov\">2</td><td class=\"right\" data-stat=\"pf\">3</td><td class=\"right\" data-stat=\"pts\">37</td><td class=\"right\" data-stat=\"game_score\">33.6</td><td class=\"right\" data-stat=\"plus_minus\">-20</td></tr>\n",
      "\n",
      "\n",
      "\n",
      "<tr><th class=\"left\" data-stat=\"date\" scope=\"row\"><a href=\"/boxscores/202402280TOR.html\" onclick=\"sr_record_analytics_event('Last x Games', 'Date', '2024-02-28')\">2024-02-28</a></th><td class=\"left\" data-stat=\"team_name_abbr\"><a href=\"/teams/DAL/2024.html\" onclick=\"sr_record_analytics_event('Last x Games' ,'Tm', 'DAL')\">DAL</a></td><td class=\"center\" data-stat=\"game_location\">@</td><td class=\"left\" data-stat=\"opp_name_abbr\"><a href=\"/teams/TOR/2024.html\" onclick=\"sr_record_analytics_event('Last x Games', 'Opp', 'TOR')\">TOR</a></td><td class=\"center\" data-stat=\"game_result\">W 136-125</td><td class=\"right\" data-stat=\"is_starter\">*</td><td class=\"right\" data-stat=\"mp\">36</td><td class=\"right\" data-stat=\"fg\">11</td><td class=\"right\" data-stat=\"fga\">23</td><td class=\"right\" data-stat=\"fg_pct\">.478</td><td class=\"right\" data-stat=\"fg3\">1</td><td class=\"right\" data-stat=\"fg3a\">8</td><td class=\"right\" data-stat=\"fg3_pct\">.125</td><td class=\"right\" data-stat=\"ft\">7</td><td class=\"right\" data-stat=\"fta\">9</td><td class=\"right\" data-stat=\"ft_pct\">.778</td><td class=\"right\" data-stat=\"orb\">1</td><td class=\"right\" data-stat=\"drb\">10</td><td class=\"right\" data-stat=\"trb\">11</td><td class=\"right\" data-stat=\"ast\">16</td><td class=\"right\" data-stat=\"stl\">2</td><td class=\"right iz\" data-stat=\"blk\">0</td><td class=\"right\" data-stat=\"tov\">5</td><td class=\"right\" data-stat=\"pf\">3</td><td class=\"right\" data-stat=\"pts\">30</td><td class=\"right\" data-stat=\"game_score\">28.2</td><td class=\"right\" data-stat=\"plus_minus\">11</td></tr>\n",
      "\n",
      "\n",
      "\n",
      "<tr><th class=\"left\" data-stat=\"date\" scope=\"row\"><a href=\"/boxscores/202402270CLE.html\" onclick=\"sr_record_analytics_event('Last x Games', 'Date', '2024-02-27')\">2024-02-27</a></th><td class=\"left\" data-stat=\"team_name_abbr\"><a href=\"/teams/DAL/2024.html\" onclick=\"sr_record_analytics_event('Last x Games' ,'Tm', 'DAL')\">DAL</a></td><td class=\"center\" data-stat=\"game_location\">@</td><td class=\"left\" data-stat=\"opp_name_abbr\"><a href=\"/teams/CLE/2024.html\" onclick=\"sr_record_analytics_event('Last x Games', 'Opp', 'CLE')\">CLE</a></td><td class=\"center\" data-stat=\"game_result\">L 119-121</td><td class=\"right\" data-stat=\"is_starter\">*</td><td class=\"right\" data-stat=\"mp\">41</td><td class=\"right\" data-stat=\"fg\">17</td><td class=\"right\" data-stat=\"fga\">29</td><td class=\"right\" data-stat=\"fg_pct\">.586</td><td class=\"right\" data-stat=\"fg3\">6</td><td class=\"right\" data-stat=\"fg3a\">11</td><td class=\"right\" data-stat=\"fg3_pct\">.545</td><td class=\"right\" data-stat=\"ft\">5</td><td class=\"right\" data-stat=\"fta\">5</td><td class=\"right\" data-stat=\"ft_pct\">1.000</td><td class=\"right iz\" data-stat=\"orb\">0</td><td class=\"right\" data-stat=\"drb\">9</td><td class=\"right\" data-stat=\"trb\">9</td><td class=\"right\" data-stat=\"ast\">14</td><td class=\"right\" data-stat=\"stl\">3</td><td class=\"right iz\" data-stat=\"blk\">0</td><td class=\"right\" data-stat=\"tov\">1</td><td class=\"right\" data-stat=\"pf\">1</td><td class=\"right\" data-stat=\"pts\">45</td><td class=\"right\" data-stat=\"game_score\">45.6</td><td class=\"right\" data-stat=\"plus_minus\">13</td></tr>\n",
      "\n",
      "\n",
      "\n",
      "<tr><th class=\"left\" data-stat=\"date\" scope=\"row\"><a href=\"/boxscores/202402250IND.html\" onclick=\"sr_record_analytics_event('Last x Games', 'Date', '2024-02-25')\">2024-02-25</a></th><td class=\"left\" data-stat=\"team_name_abbr\"><a href=\"/teams/DAL/2024.html\" onclick=\"sr_record_analytics_event('Last x Games' ,'Tm', 'DAL')\">DAL</a></td><td class=\"center\" data-stat=\"game_location\">@</td><td class=\"left\" data-stat=\"opp_name_abbr\"><a href=\"/teams/IND/2024.html\" onclick=\"sr_record_analytics_event('Last x Games', 'Opp', 'IND')\">IND</a></td><td class=\"center\" data-stat=\"game_result\">L 111-133</td><td class=\"right\" data-stat=\"is_starter\">*</td><td class=\"right\" data-stat=\"mp\">33</td><td class=\"right\" data-stat=\"fg\">10</td><td class=\"right\" data-stat=\"fga\">21</td><td class=\"right\" data-stat=\"fg_pct\">.476</td><td class=\"right\" data-stat=\"fg3\">4</td><td class=\"right\" data-stat=\"fg3a\">8</td><td class=\"right\" data-stat=\"fg3_pct\">.500</td><td class=\"right\" data-stat=\"ft\">9</td><td class=\"right\" data-stat=\"fta\">12</td><td class=\"right\" data-stat=\"ft_pct\">.750</td><td class=\"right\" data-stat=\"orb\">1</td><td class=\"right\" data-stat=\"drb\">5</td><td class=\"right\" data-stat=\"trb\">6</td><td class=\"right\" data-stat=\"ast\">6</td><td class=\"right\" data-stat=\"stl\">1</td><td class=\"right\" data-stat=\"blk\">2</td><td class=\"right\" data-stat=\"tov\">3</td><td class=\"right\" data-stat=\"pf\">4</td><td class=\"right\" data-stat=\"pts\">33</td><td class=\"right\" data-stat=\"game_score\">25.3</td><td class=\"right\" data-stat=\"plus_minus\">-13</td></tr>\n",
      "\n",
      "\n",
      "\n"
     ]
    }
   ],
   "source": [
    "table = soup.find('tbody')\n",
    "rows = table.find_all('tr')"
   ]
  },
  {
   "cell_type": "code",
   "execution_count": null,
   "id": "2b96d782",
   "metadata": {},
   "outputs": [],
   "source": []
  },
  {
   "cell_type": "code",
   "execution_count": null,
   "id": "174503c8",
   "metadata": {},
   "outputs": [],
   "source": []
  }
 ],
 "metadata": {
  "kernelspec": {
   "display_name": "Python 3 (ipykernel)",
   "language": "python",
   "name": "python3"
  },
  "language_info": {
   "codemirror_mode": {
    "name": "ipython",
    "version": 3
   },
   "file_extension": ".py",
   "mimetype": "text/x-python",
   "name": "python",
   "nbconvert_exporter": "python",
   "pygments_lexer": "ipython3",
   "version": "3.11.5"
  }
 },
 "nbformat": 4,
 "nbformat_minor": 5
}
