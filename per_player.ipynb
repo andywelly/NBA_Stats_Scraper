{
 "cells": [
  {
   "cell_type": "code",
   "execution_count": 2,
   "id": "7998281e",
   "metadata": {},
   "outputs": [],
   "source": [
    "from bs4 import BeautifulSoup\n",
    "import requests"
   ]
  },
  {
   "cell_type": "code",
   "execution_count": 5,
   "id": "eeb6d966",
   "metadata": {},
   "outputs": [],
   "source": [
    "url = 'https://www.basketball-reference.com/players/d/doncilu01.html'\n",
    "\n",
    "page = requests.get(url)\n",
    "\n",
    "soup = BeautifulSoup(page.text, 'html')"
   ]
  },
  {
   "cell_type": "code",
   "execution_count": 35,
   "id": "80465783",
   "metadata": {},
   "outputs": [],
   "source": [
    "table = soup.find('table', class_=\"stats_table\")"
   ]
  },
  {
   "cell_type": "code",
   "execution_count": 63,
   "id": "75e725d0",
   "metadata": {},
   "outputs": [],
   "source": [
    "thead = table.find('thead')\n",
    "th_head = thead.find_all('th')"
   ]
  },
  {
   "cell_type": "code",
   "execution_count": 64,
   "id": "4b859b34",
   "metadata": {},
   "outputs": [
    {
     "name": "stdout",
     "output_type": "stream",
     "text": [
      "date\n",
      "team_name_abbr\n",
      "game_location\n",
      "opp_name_abbr\n",
      "game_result\n",
      "is_starter\n",
      "mp\n",
      "fg\n",
      "fga\n",
      "fg_pct\n",
      "fg3\n",
      "fg3a\n",
      "fg3_pct\n",
      "ft\n",
      "fta\n",
      "ft_pct\n",
      "orb\n",
      "drb\n",
      "trb\n",
      "ast\n",
      "stl\n",
      "blk\n",
      "tov\n",
      "pf\n",
      "pts\n",
      "game_score\n",
      "plus_minus\n"
     ]
    }
   ],
   "source": [
    "for thh in th_head:\n",
    "    print(thh.get('data-stat'))"
   ]
  },
  {
   "cell_type": "code",
   "execution_count": 50,
   "id": "53b9f3f9",
   "metadata": {},
   "outputs": [],
   "source": [
    "tbody = table.find('tbody')\n",
    "games = tbody.find_all('tr')"
   ]
  },
  {
   "cell_type": "code",
   "execution_count": 84,
   "id": "4f3f19a8",
   "metadata": {},
   "outputs": [
    {
     "name": "stdout",
     "output_type": "stream",
     "text": [
      "['38', '37', '30', '45', '33']\n",
      "['10', '11', '16', '14', '6']\n",
      "['11', '12', '11', '9', '6']\n",
      "['1', '0', '2', '3', '1']\n",
      "['0', '0', '0', '0', '2']\n",
      "['7', '2', '5', '1', '3']\n",
      "['4', '3', '1', '6', '4']\n"
     ]
    }
   ],
   "source": [
    "points = []\n",
    "assists = []\n",
    "rebounds = []\n",
    "steals = []\n",
    "blocks = []\n",
    "turnovers = []\n",
    "threePM = []\n",
    "\n",
    "for game in games:\n",
    "    stats = game.find_all('td')\n",
    "    points.append(stats[23].text)\n",
    "    assists.append(stats[18].text)\n",
    "    rebounds.append(stats[17].text)\n",
    "    steals.append(stats[19].text)\n",
    "    blocks.append(stats[20].text)\n",
    "    turnovers.append(stats[21].text)\n",
    "    threePM.append(stats[9].text)\n",
    "\n",
    "        \n",
    "print(points)\n",
    "print(assists)\n",
    "print(rebounds)\n",
    "print(steals)\n",
    "print(blocks)\n",
    "print(turnovers)\n",
    "print(threePM)"
   ]
  },
  {
   "cell_type": "code",
   "execution_count": null,
   "id": "cb73001d",
   "metadata": {},
   "outputs": [],
   "source": []
  }
 ],
 "metadata": {
  "kernelspec": {
   "display_name": "Python 3 (ipykernel)",
   "language": "python",
   "name": "python3"
  },
  "language_info": {
   "codemirror_mode": {
    "name": "ipython",
    "version": 3
   },
   "file_extension": ".py",
   "mimetype": "text/x-python",
   "name": "python",
   "nbconvert_exporter": "python",
   "pygments_lexer": "ipython3",
   "version": "3.11.5"
  }
 },
 "nbformat": 4,
 "nbformat_minor": 5
}
